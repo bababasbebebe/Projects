{
 "cells": [
  {
   "cell_type": "markdown",
   "metadata": {
    "id": "NyHIGVhfa_Wf"
   },
   "source": [
    "# Стохастический градиентный и координатный спуски"
   ]
  },
  {
   "cell_type": "markdown",
   "metadata": {
    "id": "gn6lluIADUKa"
   },
   "source": [
    "Для каждого задания указано количество баллов (если они оцениваются отдельно) + 1 балл за аккуратное и полное выполнение всего задания"
   ]
  },
  {
   "cell_type": "markdown",
   "metadata": {
    "id": "txCccYvha_Wv"
   },
   "source": [
    "## Загрузка и подготовка данных"
   ]
  },
  {
   "cell_type": "markdown",
   "metadata": {
    "id": "NbyOzeZ6a_Wx"
   },
   "source": [
    "**Загрузите уже знакомый вам файл *Advertising.csv* как объект DataFrame.** "
   ]
  },
  {
   "cell_type": "code",
   "execution_count": 1,
   "metadata": {
    "id": "E1L4_xeDa_Wz"
   },
   "outputs": [
    {
     "data": {
      "text/html": [
       "<div>\n",
       "<style scoped>\n",
       "    .dataframe tbody tr th:only-of-type {\n",
       "        vertical-align: middle;\n",
       "    }\n",
       "\n",
       "    .dataframe tbody tr th {\n",
       "        vertical-align: top;\n",
       "    }\n",
       "\n",
       "    .dataframe thead th {\n",
       "        text-align: right;\n",
       "    }\n",
       "</style>\n",
       "<table border=\"1\" class=\"dataframe\">\n",
       "  <thead>\n",
       "    <tr style=\"text-align: right;\">\n",
       "      <th></th>\n",
       "      <th>TV</th>\n",
       "      <th>radio</th>\n",
       "      <th>newspaper</th>\n",
       "      <th>sales</th>\n",
       "    </tr>\n",
       "  </thead>\n",
       "  <tbody>\n",
       "    <tr>\n",
       "      <th>1</th>\n",
       "      <td>230.1</td>\n",
       "      <td>37.8</td>\n",
       "      <td>69.2</td>\n",
       "      <td>22.1</td>\n",
       "    </tr>\n",
       "    <tr>\n",
       "      <th>2</th>\n",
       "      <td>44.5</td>\n",
       "      <td>39.3</td>\n",
       "      <td>45.1</td>\n",
       "      <td>10.4</td>\n",
       "    </tr>\n",
       "    <tr>\n",
       "      <th>3</th>\n",
       "      <td>17.2</td>\n",
       "      <td>45.9</td>\n",
       "      <td>69.3</td>\n",
       "      <td>9.3</td>\n",
       "    </tr>\n",
       "    <tr>\n",
       "      <th>4</th>\n",
       "      <td>151.5</td>\n",
       "      <td>41.3</td>\n",
       "      <td>58.5</td>\n",
       "      <td>18.5</td>\n",
       "    </tr>\n",
       "    <tr>\n",
       "      <th>5</th>\n",
       "      <td>180.8</td>\n",
       "      <td>10.8</td>\n",
       "      <td>58.4</td>\n",
       "      <td>12.9</td>\n",
       "    </tr>\n",
       "    <tr>\n",
       "      <th>...</th>\n",
       "      <td>...</td>\n",
       "      <td>...</td>\n",
       "      <td>...</td>\n",
       "      <td>...</td>\n",
       "    </tr>\n",
       "    <tr>\n",
       "      <th>196</th>\n",
       "      <td>38.2</td>\n",
       "      <td>3.7</td>\n",
       "      <td>13.8</td>\n",
       "      <td>7.6</td>\n",
       "    </tr>\n",
       "    <tr>\n",
       "      <th>197</th>\n",
       "      <td>94.2</td>\n",
       "      <td>4.9</td>\n",
       "      <td>8.1</td>\n",
       "      <td>9.7</td>\n",
       "    </tr>\n",
       "    <tr>\n",
       "      <th>198</th>\n",
       "      <td>177.0</td>\n",
       "      <td>9.3</td>\n",
       "      <td>6.4</td>\n",
       "      <td>12.8</td>\n",
       "    </tr>\n",
       "    <tr>\n",
       "      <th>199</th>\n",
       "      <td>283.6</td>\n",
       "      <td>42.0</td>\n",
       "      <td>66.2</td>\n",
       "      <td>25.5</td>\n",
       "    </tr>\n",
       "    <tr>\n",
       "      <th>200</th>\n",
       "      <td>232.1</td>\n",
       "      <td>8.6</td>\n",
       "      <td>8.7</td>\n",
       "      <td>13.4</td>\n",
       "    </tr>\n",
       "  </tbody>\n",
       "</table>\n",
       "<p>200 rows × 4 columns</p>\n",
       "</div>"
      ],
      "text/plain": [
       "        TV  radio  newspaper  sales\n",
       "1    230.1   37.8       69.2   22.1\n",
       "2     44.5   39.3       45.1   10.4\n",
       "3     17.2   45.9       69.3    9.3\n",
       "4    151.5   41.3       58.5   18.5\n",
       "5    180.8   10.8       58.4   12.9\n",
       "..     ...    ...        ...    ...\n",
       "196   38.2    3.7       13.8    7.6\n",
       "197   94.2    4.9        8.1    9.7\n",
       "198  177.0    9.3        6.4   12.8\n",
       "199  283.6   42.0       66.2   25.5\n",
       "200  232.1    8.6        8.7   13.4\n",
       "\n",
       "[200 rows x 4 columns]"
      ]
     },
     "execution_count": 1,
     "metadata": {},
     "output_type": "execute_result"
    }
   ],
   "source": [
    "import pandas as pd\n",
    "import numpy as np\n",
    "import matplotlib.pyplot as plt\n",
    "\n",
    "df = pd.read_csv('Advertising.csv', index_col=0)\n",
    "df"
   ]
  },
  {
   "cell_type": "markdown",
   "metadata": {
    "id": "bf4aVFndDUKf"
   },
   "source": [
    "**Проверьте, есть ли в данных пропуски и, если они есть - удалите их**"
   ]
  },
  {
   "cell_type": "code",
   "execution_count": 2,
   "metadata": {
    "id": "tiVeFnR5DUKg"
   },
   "outputs": [
    {
     "data": {
      "text/plain": [
       "TV           0\n",
       "radio        0\n",
       "newspaper    0\n",
       "sales        0\n",
       "dtype: int64"
      ]
     },
     "execution_count": 2,
     "metadata": {},
     "output_type": "execute_result"
    }
   ],
   "source": [
    "df.isnull().sum()"
   ]
  },
  {
   "cell_type": "markdown",
   "metadata": {
    "id": "rTkiqPr_DUKh"
   },
   "source": [
    "**Преобразуйте ваши признаки в массивы NumPy и разделите их на переменные X (предикторы) и y(целевая переменная)** "
   ]
  },
  {
   "cell_type": "code",
   "execution_count": 3,
   "metadata": {
    "id": "R9OHIRB3a_Xa"
   },
   "outputs": [
    {
     "name": "stdout",
     "output_type": "stream",
     "text": [
      "X: [[230.1  37.8  69.2]\n",
      " [ 44.5  39.3  45.1]\n",
      " [ 17.2  45.9  69.3]\n",
      " [151.5  41.3  58.5]\n",
      " [180.8  10.8  58.4]\n",
      " [  8.7  48.9  75. ]\n",
      " [ 57.5  32.8  23.5]\n",
      " [120.2  19.6  11.6]\n",
      " [  8.6   2.1   1. ]\n",
      " [199.8   2.6  21.2]\n",
      " [ 66.1   5.8  24.2]\n",
      " [214.7  24.    4. ]\n",
      " [ 23.8  35.1  65.9]\n",
      " [ 97.5   7.6   7.2]\n",
      " [204.1  32.9  46. ]\n",
      " [195.4  47.7  52.9]\n",
      " [ 67.8  36.6 114. ]\n",
      " [281.4  39.6  55.8]\n",
      " [ 69.2  20.5  18.3]\n",
      " [147.3  23.9  19.1]\n",
      " [218.4  27.7  53.4]\n",
      " [237.4   5.1  23.5]\n",
      " [ 13.2  15.9  49.6]\n",
      " [228.3  16.9  26.2]\n",
      " [ 62.3  12.6  18.3]\n",
      " [262.9   3.5  19.5]\n",
      " [142.9  29.3  12.6]\n",
      " [240.1  16.7  22.9]\n",
      " [248.8  27.1  22.9]\n",
      " [ 70.6  16.   40.8]\n",
      " [292.9  28.3  43.2]\n",
      " [112.9  17.4  38.6]\n",
      " [ 97.2   1.5  30. ]\n",
      " [265.6  20.    0.3]\n",
      " [ 95.7   1.4   7.4]\n",
      " [290.7   4.1   8.5]\n",
      " [266.9  43.8   5. ]\n",
      " [ 74.7  49.4  45.7]\n",
      " [ 43.1  26.7  35.1]\n",
      " [228.   37.7  32. ]\n",
      " [202.5  22.3  31.6]\n",
      " [177.   33.4  38.7]\n",
      " [293.6  27.7   1.8]\n",
      " [206.9   8.4  26.4]\n",
      " [ 25.1  25.7  43.3]\n",
      " [175.1  22.5  31.5]\n",
      " [ 89.7   9.9  35.7]\n",
      " [239.9  41.5  18.5]\n",
      " [227.2  15.8  49.9]\n",
      " [ 66.9  11.7  36.8]\n",
      " [199.8   3.1  34.6]\n",
      " [100.4   9.6   3.6]\n",
      " [216.4  41.7  39.6]\n",
      " [182.6  46.2  58.7]\n",
      " [262.7  28.8  15.9]\n",
      " [198.9  49.4  60. ]\n",
      " [  7.3  28.1  41.4]\n",
      " [136.2  19.2  16.6]\n",
      " [210.8  49.6  37.7]\n",
      " [210.7  29.5   9.3]\n",
      " [ 53.5   2.   21.4]\n",
      " [261.3  42.7  54.7]\n",
      " [239.3  15.5  27.3]\n",
      " [102.7  29.6   8.4]\n",
      " [131.1  42.8  28.9]\n",
      " [ 69.    9.3   0.9]\n",
      " [ 31.5  24.6   2.2]\n",
      " [139.3  14.5  10.2]\n",
      " [237.4  27.5  11. ]\n",
      " [216.8  43.9  27.2]\n",
      " [199.1  30.6  38.7]\n",
      " [109.8  14.3  31.7]\n",
      " [ 26.8  33.   19.3]\n",
      " [129.4   5.7  31.3]\n",
      " [213.4  24.6  13.1]\n",
      " [ 16.9  43.7  89.4]\n",
      " [ 27.5   1.6  20.7]\n",
      " [120.5  28.5  14.2]\n",
      " [  5.4  29.9   9.4]\n",
      " [116.    7.7  23.1]\n",
      " [ 76.4  26.7  22.3]\n",
      " [239.8   4.1  36.9]\n",
      " [ 75.3  20.3  32.5]\n",
      " [ 68.4  44.5  35.6]\n",
      " [213.5  43.   33.8]\n",
      " [193.2  18.4  65.7]\n",
      " [ 76.3  27.5  16. ]\n",
      " [110.7  40.6  63.2]\n",
      " [ 88.3  25.5  73.4]\n",
      " [109.8  47.8  51.4]\n",
      " [134.3   4.9   9.3]\n",
      " [ 28.6   1.5  33. ]\n",
      " [217.7  33.5  59. ]\n",
      " [250.9  36.5  72.3]\n",
      " [107.4  14.   10.9]\n",
      " [163.3  31.6  52.9]\n",
      " [197.6   3.5   5.9]\n",
      " [184.9  21.   22. ]\n",
      " [289.7  42.3  51.2]\n",
      " [135.2  41.7  45.9]\n",
      " [222.4   4.3  49.8]\n",
      " [296.4  36.3 100.9]\n",
      " [280.2  10.1  21.4]\n",
      " [187.9  17.2  17.9]\n",
      " [238.2  34.3   5.3]\n",
      " [137.9  46.4  59. ]\n",
      " [ 25.   11.   29.7]\n",
      " [ 90.4   0.3  23.2]\n",
      " [ 13.1   0.4  25.6]\n",
      " [255.4  26.9   5.5]\n",
      " [225.8   8.2  56.5]\n",
      " [241.7  38.   23.2]\n",
      " [175.7  15.4   2.4]\n",
      " [209.6  20.6  10.7]\n",
      " [ 78.2  46.8  34.5]\n",
      " [ 75.1  35.   52.7]\n",
      " [139.2  14.3  25.6]\n",
      " [ 76.4   0.8  14.8]\n",
      " [125.7  36.9  79.2]\n",
      " [ 19.4  16.   22.3]\n",
      " [141.3  26.8  46.2]\n",
      " [ 18.8  21.7  50.4]\n",
      " [224.    2.4  15.6]\n",
      " [123.1  34.6  12.4]\n",
      " [229.5  32.3  74.2]\n",
      " [ 87.2  11.8  25.9]\n",
      " [  7.8  38.9  50.6]\n",
      " [ 80.2   0.    9.2]\n",
      " [220.3  49.    3.2]\n",
      " [ 59.6  12.   43.1]\n",
      " [  0.7  39.6   8.7]\n",
      " [265.2   2.9  43. ]\n",
      " [  8.4  27.2   2.1]\n",
      " [219.8  33.5  45.1]\n",
      " [ 36.9  38.6  65.6]\n",
      " [ 48.3  47.    8.5]\n",
      " [ 25.6  39.    9.3]\n",
      " [273.7  28.9  59.7]\n",
      " [ 43.   25.9  20.5]\n",
      " [184.9  43.9   1.7]\n",
      " [ 73.4  17.   12.9]\n",
      " [193.7  35.4  75.6]\n",
      " [220.5  33.2  37.9]\n",
      " [104.6   5.7  34.4]\n",
      " [ 96.2  14.8  38.9]\n",
      " [140.3   1.9   9. ]\n",
      " [240.1   7.3   8.7]\n",
      " [243.2  49.   44.3]\n",
      " [ 38.   40.3  11.9]\n",
      " [ 44.7  25.8  20.6]\n",
      " [280.7  13.9  37. ]\n",
      " [121.    8.4  48.7]\n",
      " [197.6  23.3  14.2]\n",
      " [171.3  39.7  37.7]\n",
      " [187.8  21.1   9.5]\n",
      " [  4.1  11.6   5.7]\n",
      " [ 93.9  43.5  50.5]\n",
      " [149.8   1.3  24.3]\n",
      " [ 11.7  36.9  45.2]\n",
      " [131.7  18.4  34.6]\n",
      " [172.5  18.1  30.7]\n",
      " [ 85.7  35.8  49.3]\n",
      " [188.4  18.1  25.6]\n",
      " [163.5  36.8   7.4]\n",
      " [117.2  14.7   5.4]\n",
      " [234.5   3.4  84.8]\n",
      " [ 17.9  37.6  21.6]\n",
      " [206.8   5.2  19.4]\n",
      " [215.4  23.6  57.6]\n",
      " [284.3  10.6   6.4]\n",
      " [ 50.   11.6  18.4]\n",
      " [164.5  20.9  47.4]\n",
      " [ 19.6  20.1  17. ]\n",
      " [168.4   7.1  12.8]\n",
      " [222.4   3.4  13.1]\n",
      " [276.9  48.9  41.8]\n",
      " [248.4  30.2  20.3]\n",
      " [170.2   7.8  35.2]\n",
      " [276.7   2.3  23.7]\n",
      " [165.6  10.   17.6]\n",
      " [156.6   2.6   8.3]\n",
      " [218.5   5.4  27.4]\n",
      " [ 56.2   5.7  29.7]\n",
      " [287.6  43.   71.8]\n",
      " [253.8  21.3  30. ]\n",
      " [205.   45.1  19.6]\n",
      " [139.5   2.1  26.6]\n",
      " [191.1  28.7  18.2]\n",
      " [286.   13.9   3.7]\n",
      " [ 18.7  12.1  23.4]\n",
      " [ 39.5  41.1   5.8]\n",
      " [ 75.5  10.8   6. ]\n",
      " [ 17.2   4.1  31.6]\n",
      " [166.8  42.    3.6]\n",
      " [149.7  35.6   6. ]\n",
      " [ 38.2   3.7  13.8]\n",
      " [ 94.2   4.9   8.1]\n",
      " [177.    9.3   6.4]\n",
      " [283.6  42.   66.2]\n",
      " [232.1   8.6   8.7]]\n",
      "y: [22.1 10.4  9.3 18.5 12.9  7.2 11.8 13.2  4.8 10.6  8.6 17.4  9.2  9.7\n",
      " 19.  22.4 12.5 24.4 11.3 14.6 18.  12.5  5.6 15.5  9.7 12.  15.  15.9\n",
      " 18.9 10.5 21.4 11.9  9.6 17.4  9.5 12.8 25.4 14.7 10.1 21.5 16.6 17.1\n",
      " 20.7 12.9  8.5 14.9 10.6 23.2 14.8  9.7 11.4 10.7 22.6 21.2 20.2 23.7\n",
      "  5.5 13.2 23.8 18.4  8.1 24.2 15.7 14.  18.   9.3  9.5 13.4 18.9 22.3\n",
      " 18.3 12.4  8.8 11.  17.   8.7  6.9 14.2  5.3 11.  11.8 12.3 11.3 13.6\n",
      " 21.7 15.2 12.  16.  12.9 16.7 11.2  7.3 19.4 22.2 11.5 16.9 11.7 15.5\n",
      " 25.4 17.2 11.7 23.8 14.8 14.7 20.7 19.2  7.2  8.7  5.3 19.8 13.4 21.8\n",
      " 14.1 15.9 14.6 12.6 12.2  9.4 15.9  6.6 15.5  7.  11.6 15.2 19.7 10.6\n",
      "  6.6  8.8 24.7  9.7  1.6 12.7  5.7 19.6 10.8 11.6  9.5 20.8  9.6 20.7\n",
      " 10.9 19.2 20.1 10.4 11.4 10.3 13.2 25.4 10.9 10.1 16.1 11.6 16.6 19.\n",
      " 15.6  3.2 15.3 10.1  7.3 12.9 14.4 13.3 14.9 18.  11.9 11.9  8.  12.2\n",
      " 17.1 15.   8.4 14.5  7.6 11.7 11.5 27.  20.2 11.7 11.8 12.6 10.5 12.2\n",
      "  8.7 26.2 17.6 22.6 10.3 17.3 15.9  6.7 10.8  9.9  5.9 19.6 17.3  7.6\n",
      "  9.7 12.8 25.5 13.4]\n"
     ]
    }
   ],
   "source": [
    "X = np.array(df.drop(columns='sales').values)\n",
    "y = np.array(df.sales.values)\n",
    "\n",
    "print(f\"X: {X}\")\n",
    "print(f\"y: {y}\")"
   ]
  },
  {
   "cell_type": "markdown",
   "metadata": {
    "id": "KCvjSoHEDUKo"
   },
   "source": [
    "## Координатный спуск (3 балла)"
   ]
  },
  {
   "cell_type": "markdown",
   "metadata": {
    "id": "yjNm8dATDUKq"
   },
   "source": [
    "**Добавим единичный столбец для того, чтобы у нас был свободный коэффициент в уравнении регрессии:**"
   ]
  },
  {
   "cell_type": "code",
   "execution_count": 4,
   "metadata": {
    "id": "LMgq0fmKDUKr"
   },
   "outputs": [],
   "source": [
    "X = np.hstack([np.ones(X.shape[0]).reshape(-1, 1), X])"
   ]
  },
  {
   "cell_type": "markdown",
   "metadata": {
    "id": "R008OQwcDUKt"
   },
   "source": [
    "**Нормализуем данные: обычно это необходимо для корректной работы алгоритма**"
   ]
  },
  {
   "cell_type": "code",
   "execution_count": 5,
   "metadata": {
    "id": "2Sk7Wx-SDUKt"
   },
   "outputs": [],
   "source": [
    "X = X / np.sqrt(np.sum(np.square(X), axis=0))"
   ]
  },
  {
   "cell_type": "markdown",
   "metadata": {
    "id": "F_pHHbAdDUKu"
   },
   "source": [
    "**Реализуйте алгоритм координатного спуска:** (3 балла)\n",
    "\n",
    "Ниже приведен алгоритм:"
   ]
  },
  {
   "cell_type": "markdown",
   "metadata": {
    "id": "jBQ8vT5UDUKu"
   },
   "source": [
    "<a href=\"https://ibb.co/Th3BQFn\"><img src=\"https://i.ibb.co/DK2DBS6/zascas.jpg\" alt=\"zascas\" border=\"0\"></a>"
   ]
  },
  {
   "cell_type": "markdown",
   "metadata": {
    "id": "5ce_yM20DUKv"
   },
   "source": [
    "Примечание: 1000 итераций здесь указаны для этого задания, на самом деле их может быть намного больше, нет детерменированного значения."
   ]
  },
  {
   "cell_type": "markdown",
   "metadata": {
    "id": "y3IdiHm9DUKv"
   },
   "source": [
    "Вам необходимо реализовать координатный спуск, и вывести веса в модели линейной регрессии."
   ]
  },
  {
   "cell_type": "code",
   "execution_count": 6,
   "metadata": {
    "id": "Vsi3d9OfDUKw"
   },
   "outputs": [
    {
     "data": {
      "text/plain": [
       "array([ 41.56217205, 110.13144155,  73.52860638,  -0.55006384])"
      ]
     },
     "execution_count": 6,
     "metadata": {},
     "output_type": "execute_result"
    }
   ],
   "source": [
    "def coord_desc(X, y):\n",
    "    p = X.shape[1]\n",
    "    w = np.zeros(p)\n",
    "    for i in range(1000):\n",
    "        for j in range(p):\n",
    "             r = (y - X @ w) + X[:, j] * w[j]\n",
    "             w[j] = X[:, j] @ r\n",
    "    return w\n",
    "    \n",
    "coord_desc(X, y)"
   ]
  },
  {
   "cell_type": "markdown",
   "metadata": {
    "id": "a3jG-7UADUKx"
   },
   "source": [
    "Сравните результаты с реализацией линейной регрессии из библиотеки sklearn:"
   ]
  },
  {
   "cell_type": "code",
   "execution_count": 7,
   "metadata": {
    "id": "SBl-1Yb5DUKy"
   },
   "outputs": [
    {
     "name": "stdout",
     "output_type": "stream",
     "text": [
      "[ 41.56217205 110.13144155  73.52860638  -0.55006384]\n"
     ]
    }
   ],
   "source": [
    "from sklearn.linear_model import LinearRegression\n",
    " \n",
    "model = LinearRegression(fit_intercept=False)\n",
    "model.fit(X, y)\n",
    " \n",
    "print(model.coef_)"
   ]
  },
  {
   "cell_type": "markdown",
   "metadata": {
    "id": "hIl0AGLyDUKy"
   },
   "source": [
    "Если вы все сделали верно, они должны практически совпасть!"
   ]
  },
  {
   "cell_type": "markdown",
   "metadata": {
    "id": "VCGwFnPdDUKz"
   },
   "source": [
    "## Стохастический градиентный спуск (6 баллов)"
   ]
  },
  {
   "cell_type": "markdown",
   "metadata": {
    "id": "5u7Q2YJla_Xk"
   },
   "source": [
    "**Отмасштабируйте столбцы исходной матрицы *X* (которую мы не нормализовали еще!). Для того, чтобы это сделать, надо вычесть из каждого значения среднее и разделить на стандартное отклонение** (0.5 баллов)"
   ]
  },
  {
   "cell_type": "code",
   "execution_count": 8,
   "metadata": {
    "id": "9cEpV_5La_Xo"
   },
   "outputs": [],
   "source": [
    "df_norm = df.copy()\n",
    "for col in df_norm.drop(columns=['sales']).columns:\n",
    "    col_mean = df_norm[col].mean()\n",
    "    col_std = df_norm[col].std()\n",
    "    df_norm[col] = df_norm[col].apply(lambda x: (x - col_mean)/col_std)\n",
    "X = np.array(df_norm.drop(columns='sales').values)\n",
    "y = np.array(df_norm.sales.values)"
   ]
  },
  {
   "cell_type": "markdown",
   "metadata": {
    "id": "8WkNYILHDUK1"
   },
   "source": [
    "**Добавим единичный столбец**"
   ]
  },
  {
   "cell_type": "code",
   "execution_count": 9,
   "metadata": {
    "id": "EVl5tEGtDUK1"
   },
   "outputs": [],
   "source": [
    "X = np.hstack([np.ones(X.shape[0]).reshape(-1, 1), X])"
   ]
  },
  {
   "cell_type": "markdown",
   "metadata": {
    "id": "m53tZA5fDUK1"
   },
   "source": [
    "**Создайте функцию mse_error для вычисления среднеквадратичной ошибки, принимающую два аргумента: реальные значения и предсказывающие, и возвращающую значение mse** (0.5 балла)"
   ]
  },
  {
   "cell_type": "code",
   "execution_count": 10,
   "metadata": {
    "id": "0cvtC08Aa_YK"
   },
   "outputs": [],
   "source": [
    "def mse_error(y, pred):\n",
    "    n = np.size(y)\n",
    "    s = 0\n",
    "    for i in range(n):\n",
    "        s += (y[i] - pred[i])**2\n",
    "    return s/n"
   ]
  },
  {
   "cell_type": "markdown",
   "metadata": {
    "id": "lpOLhdvBDUK2"
   },
   "source": [
    "**Сделайте наивный прогноз: предскажите продажи средним значением. После этого рассчитайте среднеквадратичную ошибку для этого прогноза** (0.5 балла)"
   ]
  },
  {
   "cell_type": "code",
   "execution_count": 11,
   "metadata": {
    "id": "kLV_XljVa_YZ"
   },
   "outputs": [
    {
     "name": "stdout",
     "output_type": "stream",
     "text": [
      "27.085743749999985\n"
     ]
    }
   ],
   "source": [
    "print(mse_error(y, np.array([y.mean() for i in range(np.size(y))])))"
   ]
  },
  {
   "cell_type": "markdown",
   "metadata": {
    "id": "BbybL2ola_ZM"
   },
   "source": [
    "**Создайте функцию *lin_pred*, которая может по матрице предикторов *X* и вектору весов линейной модели *w* получить вектор прогнозов** (0.5 балла)"
   ]
  },
  {
   "cell_type": "code",
   "execution_count": 12,
   "metadata": {
    "id": "1Cyz-Luaa_ZO"
   },
   "outputs": [],
   "source": [
    "def lin_pred(X, w):\n",
    "    return X @ w"
   ]
  },
  {
   "cell_type": "markdown",
   "metadata": {
    "id": "BU4adBrya_Zm"
   },
   "source": [
    "**Создайте функцию *stoch_grad_step* для реализации шага стохастического градиентного спуска. (1.5 балла) \n",
    "Функция должна принимать на вход следующие аргументы:**\n",
    "* матрицу *X*\n",
    "* вектора *y* и *w*\n",
    "* число *train_ind* - индекс объекта обучающей выборки (строки матрицы *X*), по которому считается изменение весов\n",
    "* число *$\\eta$* (eta) - шаг градиентного спуска\n",
    "\n",
    "Результатом будет вектор обновленных весов"
   ]
  },
  {
   "cell_type": "markdown",
   "metadata": {
    "id": "dyLY-P02DUK5"
   },
   "source": [
    "Шаг для стохастического градиентного спуска выглядит следующим образом:"
   ]
  },
  {
   "cell_type": "markdown",
   "metadata": {
    "id": "ORsAyIKNDUK5"
   },
   "source": [
    "$$\\Large w_j \\leftarrow w_j - \\frac{2\\eta}{\\ell} \\sum_{i=1}^\\ell{{x_{ij}((w_0 + w_1x_{i1} + w_2x_{i2} +  w_3x_{i3}) - y_i)}}$$"
   ]
  },
  {
   "cell_type": "markdown",
   "metadata": {
    "id": "CQl2FrpuDUK6"
   },
   "source": [
    "Для того, чтобы написать функцию, нужно сделать следующее:\n",
    "    \n",
    "*  посчитать направление изменения: умножить объект обучающей выборки на 2 и на разницу между предсказанным значением и реальным, а потом поделить на количество элементов в выборке.\n",
    "* вернуть разницу между вектором весов и направлением изменения, умноженным на шаг градиентного спуска"
   ]
  },
  {
   "cell_type": "code",
   "execution_count": 13,
   "metadata": {
    "id": "YUhVQGsja_Zn"
   },
   "outputs": [],
   "source": [
    "def stoch_grad_step(X, y, w, train_ind, eta):\n",
    "    return w - (2 * eta * (X[train_ind]*((w @ X[train_ind]) - y[train_ind]))) / X.shape[0]"
   ]
  },
  {
   "cell_type": "markdown",
   "metadata": {
    "id": "pXwIFd0Ma_Zx"
   },
   "source": [
    "**Создайте функцию *stochastic_gradient_descent*, для реализации стохастического градиентного спуска (2.5 балла)**\n",
    "\n",
    "**Функция принимает на вход следующие аргументы:**\n",
    "- Матрицу признаков X\n",
    "- Целевую переменнную\n",
    "- Изначальную точку (веса модели)\n",
    "- Параметр, определяющий темп обучения\n",
    "- Максимальное число итераций\n",
    "- Евклидово расстояние между векторами весов на соседних итерациях градиентного спуска,при котором алгоритм прекращает работу \n",
    "\n",
    "**На каждой итерации в вектор (список) должно записываться текущее значение среднеквадратичной ошибки. Функция должна возвращать вектор весов $w$, а также вектор (список) ошибок.**"
   ]
  },
  {
   "cell_type": "markdown",
   "metadata": {
    "id": "ZVeoNF1JDUK7"
   },
   "source": [
    "Алгоритм сследующий:\n",
    "    \n",
    "* Инициализируйте расстояние между векторами весов на соседних итерациях большим числом (можно бесконечностью)\n",
    "* Создайте пустой список для фиксации ошибок\n",
    "* Создайте счетчик итераций\n",
    "* Реализуйте основной цикл обучения пока расстояние между векторами весов больше того, при котором надо прекратить работу (когда расстояния станут слишком маленькими - значит, мы застряли в одном месте) и количество итераций меньше максимально разрешенного: сгенерируйте случайный индекс, запишите текущую ошибку в вектор ошибок, запишите в переменную текущий шаг стохастического спуска с использованием функции, написанной ранее. Далее рассчитайте текущее расстояние между векторами весов и прибавьте к счетчику итераций 1.\n",
    "* Верните вектор весов и вектор ошибок"
   ]
  },
  {
   "cell_type": "code",
   "execution_count": 14,
   "metadata": {},
   "outputs": [
    {
     "name": "stdout",
     "output_type": "stream",
     "text": [
      "[13.89178972  4.02176147  2.67018981  0.14512647] 2.8394910618096203\n"
     ]
    }
   ],
   "source": [
    "import random #для случайного индекса\n",
    "\n",
    "def stochastic_gradient_descent(X, y, w, eta, max_iter, tol):\n",
    "    dist = float('inf')\n",
    "    i = 0\n",
    "    errors = []\n",
    "    while dist > tol and max_iter > i:\n",
    "        w_prev = w\n",
    "        train_ind = random.randrange(0, X.shape[0])\n",
    "        w = stoch_grad_step(X, y, w, train_ind, eta)\n",
    "        dist = np.linalg.norm(w - w_prev)\n",
    "        errors.append(mse_error(y, lin_pred(X,w)))\n",
    "        i += 1\n",
    "    return [w, errors]\n",
    "\n",
    "w = np.zeros(X.shape[1])\n",
    "ans = stochastic_gradient_descent(X, y, w, 0.5, 1000, 10**(-8))\n",
    "print(ans[0], ans[1][-1])"
   ]
  },
  {
   "cell_type": "markdown",
   "metadata": {
    "id": "0OqHO1Rta_Z7"
   },
   "source": [
    " **Запустите $10^5$ итераций стохастического градиентного спуска. Укажите вектор начальных весов, состоящий из нулей. Можете поэкспериментировать с параметром, отвечающим за темп обучения.**"
   ]
  },
  {
   "cell_type": "markdown",
   "metadata": {
    "id": "N6fHHT6vDUK8"
   },
   "source": [
    "**Постройте график зависимости ошибки от номера итерации**"
   ]
  },
  {
   "cell_type": "code",
   "execution_count": 15,
   "metadata": {
    "id": "zsSfHDzLDUK9"
   },
   "outputs": [
    {
     "data": {
      "text/plain": [
       "[<matplotlib.lines.Line2D at 0x18fe8f0da50>]"
      ]
     },
     "execution_count": 15,
     "metadata": {},
     "output_type": "execute_result"
    },
    {
     "data": {
      "image/png": "[encoded data removed]",
      "text/plain": [
       "<Figure size 640x480 with 1 Axes>"
      ]
     },
     "metadata": {},
     "output_type": "display_data"
    }
   ],
   "source": [
    "plt.plot(ans[1])"
   ]
  },
  {
   "cell_type": "markdown",
   "metadata": {
    "id": "O-MVOcJ6a_aY"
   },
   "source": [
    "**Выведите вектор весов, к которому сошелся метод.**"
   ]
  },
  {
   "cell_type": "code",
   "execution_count": 16,
   "metadata": {
    "id": "MPjVkXe4DUK9"
   },
   "outputs": [
    {
     "name": "stdout",
     "output_type": "stream",
     "text": [
      "w = [13.89178972  4.02176147  2.67018981  0.14512647]\n"
     ]
    }
   ],
   "source": [
    "print(f\"w = {ans[0]}\")"
   ]
  },
  {
   "cell_type": "markdown",
   "metadata": {
    "id": "qabzMc3Qa_a5"
   },
   "source": [
    "**Выведите среднеквадратичную ошибку на последней итерации.**"
   ]
  },
  {
   "cell_type": "code",
   "execution_count": 17,
   "metadata": {
    "id": "7tPWleMIa_a7"
   },
   "outputs": [
    {
     "name": "stdout",
     "output_type": "stream",
     "text": [
      "MSE = 2.8394910618096203\n"
     ]
    }
   ],
   "source": [
    "print(f\"MSE = {ans[1][-1]}\")"
   ]
  },
  {
   "cell_type": "code",
   "execution_count": 18,
   "metadata": {},
   "outputs": [
    {
     "data": {
      "text/plain": [
       "2.784126314510934"
      ]
     },
     "execution_count": 18,
     "metadata": {},
     "output_type": "execute_result"
    }
   ],
   "source": [
    "# MSE Координатного спуска(лог регрессии, конечно, но веса совпали)\n",
    "X = np.array(df.drop(columns='sales').values)\n",
    "y = np.array(df.sales.values)\n",
    "X = np.hstack([np.ones(X.shape[0]).reshape(-1, 1), X])\n",
    "X = X / np.sqrt(np.sum(np.square(X), axis=0))\n",
    "\n",
    "mse_error(y, lin_pred(X,model.coef_))"
   ]
  },
  {
   "cell_type": "markdown",
   "metadata": {},
   "source": [
    "# Вывод:\n",
    "* Веса в результате координатного спуска на 1000 итераций совпали с весами лог регрессии из sklearn.\n",
    "* MSE Координатного спуска и Стохастического градиентного спуска практически одинаковые.\n",
    "* График зависимости ошибки от номера итерации сходится.\n",
    "\n",
    "п.с. Решил не комментировать код, потому что каждый фрагмент кода в соответствущей ячейке."
   ]
  },
  {
   "cell_type": "code",
   "execution_count": 19,
   "metadata": {},
   "outputs": [
    {
     "name": "stdout",
     "output_type": "stream",
     "text": [
      "Координатный спуск:\n",
      "MSE: 2.784126314510934\n",
      "w: [ 41.56217205 110.13144155  73.52860638  -0.55006384]\n",
      "Количество итераций: 1000\n",
      "\n",
      "Стохастический градиентный спуск:\n",
      "MSE: 2.8394910618096203\n",
      "w: [13.89178972  4.02176147  2.67018981  0.14512647]\n",
      "Количество итераций: 1000\n"
     ]
    }
   ],
   "source": [
    "print(\"Координатный спуск:\")\n",
    "print(f\"MSE: {mse_error(y, lin_pred(X,model.coef_))}\")\n",
    "print(f\"w: {model.coef_}\")\n",
    "print(f\"Количество итераций: {1000}\")\n",
    "print(\"\\nСтохастический градиентный спуск:\")\n",
    "print(f\"MSE: {ans[1][-1]}\")\n",
    "print(f\"w: {ans[0]}\")\n",
    "print(f\"Количество итераций: {1000}\")"
   ]
  }
 ],
 "metadata": {
  "colab": {
   "collapsed_sections": [],
   "name": "Практика_Оптимизация.ipynb",
   "provenance": [],
   "toc_visible": true
  },
  "kernelspec": {
   "display_name": "Python 3 (ipykernel)",
   "language": "python",
   "name": "python3"
  },
  "language_info": {
   "codemirror_mode": {
    "name": "ipython",
    "version": 3
   },
   "file_extension": ".py",
   "mimetype": "text/x-python",
   "name": "python",
   "nbconvert_exporter": "python",
   "pygments_lexer": "ipython3",
   "version": "3.10.9"
  }
 },
 "nbformat": 4,
 "nbformat_minor": 4
}
